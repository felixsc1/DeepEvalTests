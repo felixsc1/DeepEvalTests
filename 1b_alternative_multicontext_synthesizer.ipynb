{
 "cells": [
  {
   "cell_type": "markdown",
   "id": "d384e8c5",
   "metadata": {},
   "source": [
    "todo: max size for resulting documents?"
   ]
  },
  {
   "cell_type": "code",
   "execution_count": null,
   "id": "e35a0fde",
   "metadata": {},
   "outputs": [],
   "source": [
    "# According to chatgpt:\n",
    "\n",
    "\n",
    "from sentence_transformers import SentenceTransformer\n",
    "from sklearn.cluster import AgglomerativeClustering\n",
    "import numpy as np\n",
    "\n",
    "# Load your documents (tiny txt files)\n",
    "docs = []\n",
    "for path in [\"doc1.txt\", \"doc2.txt\", \"doc3.txt\"]:\n",
    "    with open(path, \"r\", encoding=\"utf-8\") as f:\n",
    "        docs.append(f.read().strip())\n",
    "\n",
    "# Step 1: Embed documents\n",
    "model = SentenceTransformer(\"all-MiniLM-L6-v2\")\n",
    "embeddings = model.encode(docs, normalize_embeddings=True)\n",
    "\n",
    "# Step 2: Cluster with HAC (distance_threshold defines merge cutoff)\n",
    "clustering = AgglomerativeClustering(\n",
    "    n_clusters=None,                # let threshold decide\n",
    "    distance_threshold=0.35,        #  Note its 1 - cosine similarity, so lower is stricter!\n",
    "    affinity=\"cosine\",\n",
    "    linkage=\"average\"\n",
    ")\n",
    "labels = clustering.fit_predict(embeddings)\n",
    "\n",
    "# Step 3: Merge docs by cluster\n",
    "from collections import defaultdict\n",
    "clusters = defaultdict(list)\n",
    "for label, doc in zip(labels, docs):\n",
    "    clusters[label].append(doc)\n",
    "\n",
    "combined_docs = [\"\\n\\n\".join(group) for group in clusters.values()]\n",
    "\n",
    "# Now you have larger documents ready for DeepEval synthesizer\n",
    "for i, bigdoc in enumerate(combined_docs, 1):\n",
    "    with open(f\"merged_doc_{i}.txt\", \"w\", encoding=\"utf-8\") as f:\n",
    "        f.write(bigdoc)\n"
   ]
  }
 ],
 "metadata": {
  "kernelspec": {
   "display_name": "venv",
   "language": "python",
   "name": "python3"
  },
  "language_info": {
   "codemirror_mode": {
    "name": "ipython",
    "version": 3
   },
   "file_extension": ".py",
   "mimetype": "text/x-python",
   "name": "python",
   "nbconvert_exporter": "python",
   "pygments_lexer": "ipython3",
   "version": "3.11.1"
  }
 },
 "nbformat": 4,
 "nbformat_minor": 5
}
